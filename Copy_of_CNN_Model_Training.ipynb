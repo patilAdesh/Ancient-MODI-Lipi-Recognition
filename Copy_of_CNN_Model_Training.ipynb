{
  "cells": [
    {
      "cell_type": "markdown",
      "metadata": {
        "id": "e4a68b80"
      },
      "source": [
        "# Importing required libraries"
      ],
      "id": "e4a68b80"
    },
    {
      "cell_type": "code",
      "execution_count": null,
      "metadata": {
        "id": "6504f5c6"
      },
      "outputs": [],
      "source": [
        "import keras\n",
        "from keras.models import Sequential\n",
        "from keras.layers import Dense\n",
        "from keras.layers import Dropout\n",
        "from keras.layers import Flatten\n",
        "from keras.layers.convolutional import Conv2D\n",
        "from keras.layers.convolutional import MaxPooling2D\n",
        "from keras.utils import np_utils\n",
        "import matplotlib.pyplot as plt\n",
        "import matplotlib.gridspec as gridspec\n",
        "import cv2 as cv\n",
        "import numpy as np\n",
        "import os"
      ],
      "id": "6504f5c6"
    },
    {
      "cell_type": "markdown",
      "metadata": {
        "id": "b2bc37fc"
      },
      "source": [
        "# Reading data from files"
      ],
      "id": "b2bc37fc"
    },
    {
      "cell_type": "code",
      "execution_count": null,
      "metadata": {
        "id": "ND8AjiomO0cq",
        "colab": {
          "base_uri": "https://localhost:8080/"
        },
        "outputId": "3f900d03-0e73-423e-9ee3-ba1e3f761057"
      },
      "outputs": [
        {
          "output_type": "stream",
          "name": "stdout",
          "text": [
            "Mounted at /content/drive\n"
          ]
        }
      ],
      "source": [
        "from google.colab import drive\n",
        "drive.mount('/content/drive')"
      ],
      "id": "ND8AjiomO0cq"
    },
    {
      "cell_type": "code",
      "execution_count": null,
      "metadata": {
        "id": "136cf73f"
      },
      "outputs": [],
      "source": [
        "path = \"/content/drive/MyDrive/Dataset/train/\"\n",
        "files = os.listdir(path)"
      ],
      "id": "136cf73f"
    },
    {
      "cell_type": "code",
      "execution_count": null,
      "metadata": {
        "id": "29621be6",
        "colab": {
          "base_uri": "https://localhost:8080/"
        },
        "outputId": "d460f1c3-419b-449c-c15e-f06831f15b09"
      },
      "outputs": [
        {
          "output_type": "stream",
          "name": "stdout",
          "text": [
            "Error reading image file 61\n",
            "Error reading image file 52\n",
            "Error reading image file 53\n",
            "Error reading image file 55\n",
            "Error reading image file 54\n",
            "Error reading image file 56\n",
            "Error reading image file 57\n",
            "Error reading image file 59\n",
            "Error reading image file 58\n",
            "Error reading image file 60\n",
            "Dataset Created Successfully\n"
          ]
        }
      ],
      "source": [
        "X = []\n",
        "Y = []\n",
        "\n",
        "for img_fold in files:\n",
        "    img_path = path+str(img_fold)\n",
        "    for img_name in os.listdir(img_path):\n",
        "        #print(f\"reading class :: {img_fold}\")\n",
        "        img = cv.imread(img_path+\"/\"+img_name,0) # here 2nd argument '0' converts 3D array to 2D array\n",
        "        if img is not None: # Check if the image is None or empty\n",
        "            # we have to resize the image because it is very large\n",
        "            img = cv.resize(img,(96,96))\n",
        "            X.append(img)\n",
        "            Y.append(img_fold)\n",
        "        else:\n",
        "            print(f\"Error reading image file {img_name}\")\n",
        "#     print(\"***********next**********\")\n",
        "\n",
        "print(\"Dataset Created Successfully\")"
      ],
      "id": "29621be6"
    },
    {
      "cell_type": "code",
      "execution_count": null,
      "metadata": {
        "id": "93ec1b99",
        "colab": {
          "base_uri": "https://localhost:8080/"
        },
        "outputId": "ff3fa2b0-1278-482a-a66b-bab706280614"
      },
      "outputs": [
        {
          "output_type": "stream",
          "name": "stdout",
          "text": [
            "{'6', '7', '42', '22', '50', '3', '57', '56', '53', '55', '35', '12', '30', '31', '24', '46', '33', '4', '36', '58', '34', '14', '25', '45', '54', '16', '5', '27', '26', '1', '41', '19', '48', '60', '32', '29', '2', '18', '37', '17', '11', '61', '10', '40', '59', '21', '52', '28', '51', '49', '43', '38', '44', '15', '9', '23', '47', '13', '20', '8', '39'}\n"
          ]
        }
      ],
      "source": [
        "print(set(Y))"
      ],
      "id": "93ec1b99"
    },
    {
      "cell_type": "markdown",
      "metadata": {
        "id": "dd3cdffe"
      },
      "source": [
        "# Splitting dataset into train and test set"
      ],
      "id": "dd3cdffe"
    },
    {
      "cell_type": "code",
      "execution_count": null,
      "metadata": {
        "id": "40f83aae"
      },
      "outputs": [],
      "source": [
        "from sklearn.model_selection import train_test_split"
      ],
      "id": "40f83aae"
    },
    {
      "cell_type": "code",
      "execution_count": null,
      "metadata": {
        "id": "ef280598"
      },
      "outputs": [],
      "source": [
        "X_train, X_test, Y_train, Y_test = train_test_split(X,Y,test_size = 0.3, random_state = 200)"
      ],
      "id": "ef280598"
    },
    {
      "cell_type": "code",
      "execution_count": null,
      "metadata": {
        "id": "2a2de5f2"
      },
      "outputs": [],
      "source": [
        "X_train = np.asarray(X_train)\n",
        "y_train = np.asarray(Y_train)\n",
        "X_test = np.asarray(X_test)\n",
        "y_test = np.asarray(Y_test)"
      ],
      "id": "2a2de5f2"
    },
    {
      "cell_type": "code",
      "execution_count": null,
      "metadata": {
        "id": "86cd32d4",
        "colab": {
          "base_uri": "https://localhost:8080/"
        },
        "outputId": "1a2535a6-4a01-4997-937d-9afd8b9e40d6"
      },
      "outputs": [
        {
          "output_type": "stream",
          "name": "stdout",
          "text": [
            "{'6', '7', '42', '22', '50', '56', '3', '57', '53', '55', '35', '12', '30', '31', '46', '24', '33', '36', '4', '58', '34', '14', '45', '54', '25', '16', '27', '5', '26', '1', '41', '19', '48', '60', '32', '29', '2', '18', '37', '17', '11', '61', '10', '40', '52', '59', '21', '51', '28', '49', '43', '38', '44', '15', '9', '23', '47', '13', '20', '8', '39'}\n"
          ]
        }
      ],
      "source": [
        "print(set(y_train))"
      ],
      "id": "86cd32d4"
    },
    {
      "cell_type": "code",
      "execution_count": null,
      "metadata": {
        "id": "cc7e5802",
        "colab": {
          "base_uri": "https://localhost:8080/"
        },
        "outputId": "f87943d0-16b3-4eb6-abaf-ce28341be36c"
      },
      "outputs": [
        {
          "output_type": "execute_result",
          "data": {
            "text/plain": [
              "(29782, 96, 96)"
            ]
          },
          "metadata": {},
          "execution_count": 10
        }
      ],
      "source": [
        "X_train.shape"
      ],
      "id": "cc7e5802"
    },
    {
      "cell_type": "markdown",
      "metadata": {
        "id": "49825c56"
      },
      "source": [
        "# Shaping the dataset according to model"
      ],
      "id": "49825c56"
    },
    {
      "cell_type": "code",
      "execution_count": null,
      "metadata": {
        "id": "fd74f550"
      },
      "outputs": [],
      "source": [
        "X_train = X_train.reshape((X_train.shape[0], 96, 96, 1)).astype('float32')\n",
        "X_test = X_test.reshape((X_test.shape[0], 96, 96, 1)).astype('float32')\n",
        "# normalize inputs from 0-255 to 0-1\n",
        "X_train = X_train / 255\n",
        "X_test = X_test / 255\n"
      ],
      "id": "fd74f550"
    },
    {
      "cell_type": "markdown",
      "metadata": {
        "id": "2b1b3057"
      },
      "source": [
        "# Converting labels to 1 and 0"
      ],
      "id": "2b1b3057"
    },
    {
      "cell_type": "code",
      "execution_count": null,
      "metadata": {
        "id": "d67cf4cd"
      },
      "outputs": [],
      "source": [
        "# one hot encode outputs\n",
        "y_train = np_utils.to_categorical(y_train)\n",
        "y_test = np_utils.to_categorical(y_test)\n",
        "num_classes = y_test.shape[1]"
      ],
      "id": "d67cf4cd"
    },
    {
      "cell_type": "markdown",
      "metadata": {
        "id": "ee0c0682"
      },
      "source": [
        "# Checking if ytrain has successfully categorised"
      ],
      "id": "ee0c0682"
    },
    {
      "cell_type": "code",
      "execution_count": null,
      "metadata": {
        "id": "a887a350",
        "colab": {
          "base_uri": "https://localhost:8080/"
        },
        "outputId": "5782eb25-c053-4236-b875-8dae2a2d9f85"
      },
      "outputs": [
        {
          "output_type": "execute_result",
          "data": {
            "text/plain": [
              "array([[0., 0., 0., ..., 0., 0., 0.],\n",
              "       [0., 0., 0., ..., 0., 0., 0.],\n",
              "       [0., 0., 0., ..., 0., 0., 0.],\n",
              "       ...,\n",
              "       [0., 0., 0., ..., 0., 0., 0.],\n",
              "       [0., 0., 0., ..., 0., 0., 0.],\n",
              "       [0., 0., 0., ..., 0., 0., 0.]], dtype=float32)"
            ]
          },
          "metadata": {},
          "execution_count": 13
        }
      ],
      "source": [
        "y_train"
      ],
      "id": "a887a350"
    },
    {
      "cell_type": "code",
      "execution_count": null,
      "metadata": {
        "id": "ac354fcc",
        "colab": {
          "base_uri": "https://localhost:8080/"
        },
        "outputId": "33b76776-0a58-46be-8685-2e26563f970e"
      },
      "outputs": [
        {
          "output_type": "execute_result",
          "data": {
            "text/plain": [
              "array([56, 52, 52, ...,  3, 26,  4])"
            ]
          },
          "metadata": {},
          "execution_count": 14
        }
      ],
      "source": [
        "np.argmax(y_train,axis=1)"
      ],
      "id": "ac354fcc"
    },
    {
      "cell_type": "markdown",
      "metadata": {
        "id": "4f7af1f8"
      },
      "source": [
        "# Creating model function and adding layers to model"
      ],
      "id": "4f7af1f8"
    },
    {
      "cell_type": "code",
      "execution_count": null,
      "metadata": {
        "id": "31131635"
      },
      "outputs": [],
      "source": [
        "def larger_model():\n",
        "    # create model\n",
        "    model = Sequential()\n",
        "    model.add(Conv2D(32, (5, 5), input_shape=(96, 96, 1), activation='relu'))\n",
        "    model.add(MaxPooling2D(pool_size=(2, 2)))\n",
        "    model.add(Conv2D(64, (3, 3), activation='relu'))\n",
        "    model.add(MaxPooling2D(pool_size=(2, 2)))\n",
        "    model.add(Conv2D(128, (3, 3), activation='relu'))\n",
        "    model.add(MaxPooling2D(pool_size=(2, 2)))\n",
        "    model.add(Conv2D(256, (3, 3), activation='relu'))\n",
        "    model.add(MaxPooling2D(pool_size=(2, 2)))\n",
        "    model.add(Conv2D(512, (3, 3), activation='relu'))\n",
        "    model.add(MaxPooling2D(pool_size=(2, 2)))\n",
        "    model.add(Dropout(0.2))\n",
        "    model.add(Flatten())\n",
        "    model.add(Dense(2048, activation='relu'))\n",
        "    model.add(Dense(50, activation='relu'))\n",
        "    model.add(Dense(num_classes, activation='softmax'))\n",
        "    # Compile model\n",
        "    model.compile(loss='categorical_crossentropy', optimizer='adam', metrics=['accuracy'])\n",
        "    return model"
      ],
      "id": "31131635"
    },
    {
      "cell_type": "markdown",
      "metadata": {
        "id": "8e85905c"
      },
      "source": [
        "# Training the model"
      ],
      "id": "8e85905c"
    },
    {
      "cell_type": "code",
      "execution_count": null,
      "metadata": {
        "colab": {
          "base_uri": "https://localhost:8080/"
        },
        "id": "60f84d7b",
        "scrolled": true,
        "outputId": "079e3fa9-34bf-484f-c92d-0a175e04b06d"
      },
      "outputs": [
        {
          "output_type": "stream",
          "name": "stdout",
          "text": [
            "Epoch 1/25\n",
            "150/150 [==============================] - 26s 86ms/step - loss: 3.2704 - accuracy: 0.1683 - val_loss: 3.0674 - val_accuracy: 0.2086\n",
            "Epoch 2/25\n",
            "150/150 [==============================] - 11s 71ms/step - loss: 2.7464 - accuracy: 0.2710 - val_loss: 2.4723 - val_accuracy: 0.3227\n",
            "Epoch 3/25\n",
            "150/150 [==============================] - 13s 86ms/step - loss: 2.1345 - accuracy: 0.4196 - val_loss: 1.7863 - val_accuracy: 0.4885\n",
            "Epoch 4/25\n",
            "150/150 [==============================] - 12s 79ms/step - loss: 1.3231 - accuracy: 0.6035 - val_loss: 0.8670 - val_accuracy: 0.7343\n",
            "Epoch 5/25\n",
            "150/150 [==============================] - 12s 78ms/step - loss: 0.6617 - accuracy: 0.7857 - val_loss: 0.4570 - val_accuracy: 0.8533\n",
            "Epoch 6/25\n",
            "150/150 [==============================] - 11s 71ms/step - loss: 0.3649 - accuracy: 0.8772 - val_loss: 0.2831 - val_accuracy: 0.9058\n",
            "Epoch 7/25\n",
            "150/150 [==============================] - 12s 79ms/step - loss: 0.2282 - accuracy: 0.9237 - val_loss: 0.2269 - val_accuracy: 0.9249\n",
            "Epoch 8/25\n",
            "150/150 [==============================] - 11s 73ms/step - loss: 0.1557 - accuracy: 0.9476 - val_loss: 0.1675 - val_accuracy: 0.9484\n",
            "Epoch 9/25\n",
            "150/150 [==============================] - 12s 80ms/step - loss: 0.1171 - accuracy: 0.9608 - val_loss: 0.1766 - val_accuracy: 0.9524\n",
            "Epoch 10/25\n",
            "150/150 [==============================] - 12s 81ms/step - loss: 0.0960 - accuracy: 0.9678 - val_loss: 0.1433 - val_accuracy: 0.9623\n",
            "Epoch 11/25\n",
            "150/150 [==============================] - 12s 81ms/step - loss: 0.0819 - accuracy: 0.9717 - val_loss: 0.1383 - val_accuracy: 0.9589\n",
            "Epoch 12/25\n",
            "150/150 [==============================] - 11s 75ms/step - loss: 0.0526 - accuracy: 0.9831 - val_loss: 0.1462 - val_accuracy: 0.9663\n",
            "Epoch 13/25\n",
            "150/150 [==============================] - 12s 80ms/step - loss: 0.0395 - accuracy: 0.9866 - val_loss: 0.1547 - val_accuracy: 0.9629\n",
            "Epoch 14/25\n",
            "150/150 [==============================] - 12s 80ms/step - loss: 0.0383 - accuracy: 0.9868 - val_loss: 0.1594 - val_accuracy: 0.9665\n",
            "Epoch 15/25\n",
            "150/150 [==============================] - 12s 80ms/step - loss: 0.0538 - accuracy: 0.9833 - val_loss: 0.1527 - val_accuracy: 0.9624\n",
            "Epoch 16/25\n",
            "150/150 [==============================] - 11s 74ms/step - loss: 0.0366 - accuracy: 0.9887 - val_loss: 0.1565 - val_accuracy: 0.9641\n",
            "Epoch 17/25\n",
            "150/150 [==============================] - 11s 74ms/step - loss: 0.0345 - accuracy: 0.9886 - val_loss: 0.1577 - val_accuracy: 0.9636\n",
            "Epoch 18/25\n",
            "150/150 [==============================] - 12s 82ms/step - loss: 0.0294 - accuracy: 0.9907 - val_loss: 0.1240 - val_accuracy: 0.9731\n",
            "Epoch 19/25\n",
            "150/150 [==============================] - 12s 82ms/step - loss: 0.0235 - accuracy: 0.9927 - val_loss: 0.1196 - val_accuracy: 0.9741\n",
            "Epoch 20/25\n",
            "150/150 [==============================] - 12s 82ms/step - loss: 0.0352 - accuracy: 0.9890 - val_loss: 0.1501 - val_accuracy: 0.9690\n",
            "Epoch 21/25\n",
            "150/150 [==============================] - 12s 81ms/step - loss: 0.0357 - accuracy: 0.9893 - val_loss: 0.1447 - val_accuracy: 0.9675\n",
            "Epoch 22/25\n",
            "150/150 [==============================] - 12s 82ms/step - loss: 0.0304 - accuracy: 0.9915 - val_loss: 0.1260 - val_accuracy: 0.9734\n",
            "Epoch 23/25\n",
            "150/150 [==============================] - 12s 81ms/step - loss: 0.0226 - accuracy: 0.9928 - val_loss: 0.1286 - val_accuracy: 0.9755\n",
            "Epoch 24/25\n",
            "150/150 [==============================] - 12s 81ms/step - loss: 0.0269 - accuracy: 0.9921 - val_loss: 0.1373 - val_accuracy: 0.9698\n",
            "Epoch 25/25\n",
            "150/150 [==============================] - 11s 74ms/step - loss: 0.0244 - accuracy: 0.9919 - val_loss: 0.1235 - val_accuracy: 0.9749\n",
            "Large CNN Error: 2.51%\n"
          ]
        }
      ],
      "source": [
        "model = larger_model()\n",
        "# Fit the model\n",
        "history = model.fit(X_train, y_train, validation_data=(X_test, y_test),steps_per_epoch = 150, epochs=25)\n",
        "# Final evaluation of the model\n",
        "scores = model.evaluate(X_test, y_test, verbose=0)\n",
        "loss = print(\"Large CNN Error: %.2f%%\" % (100-scores[1]*100))"
      ],
      "id": "60f84d7b"
    },
    {
      "cell_type": "markdown",
      "metadata": {
        "id": "5137d179"
      },
      "source": [
        "# Model Test score and accuracy"
      ],
      "id": "5137d179"
    },
    {
      "cell_type": "code",
      "execution_count": null,
      "metadata": {
        "id": "7f2020bb"
      },
      "outputs": [],
      "source": [
        "#loss_and_metrics = model.evaluate(X_train, y_train, verbose=2)\n",
        "#loss_and_metrics = model.evaluate(X_test, y_test, verbose=2)\n"
      ],
      "id": "7f2020bb"
    },
    {
      "cell_type": "code",
      "execution_count": null,
      "metadata": {
        "id": "20f7b695"
      },
      "outputs": [],
      "source": [
        "#print(\"Test Loss\", loss_and_metrics[0])\n",
        "#print(\"Test Accuracy\", loss_and_metrics[1])"
      ],
      "id": "20f7b695"
    },
    {
      "cell_type": "code",
      "source": [
        "plt.subplot(2,1,1)\n",
        "plt.plot(history.history['accuracy'])\n",
        "plt.plot(history.history['val_accuracy'])\n",
        "plt.title('model accuracy')\n",
        "plt.ylabel('accuracy')\n",
        "plt.xlabel('epoch')\n",
        "plt.legend(['train', 'test'], loc='lower right')\n",
        "\n",
        "train_acc = history.history['accuracy'][-1] * 100\n",
        "test_acc = history.history['val_accuracy'][-1] * 100\n",
        "identification_acc = scores[1] * 100\n",
        "\n",
        "print(\"Train Accuracy: %.2f%%\" % train_acc)\n",
        "print(\"Test Accuracy: %.2f%%\" % test_acc)\n",
        "print(\"Identification Accuracy: %.2f%%\" % identification_acc)\n",
        "\n",
        "plt.show()\n"
      ],
      "metadata": {
        "id": "DPQKnDRMXB_4",
        "colab": {
          "base_uri": "https://localhost:8080/",
          "height": 325
        },
        "outputId": "ef04781e-0e57-4c64-cf57-f2d138dc1c2e"
      },
      "id": "DPQKnDRMXB_4",
      "execution_count": null,
      "outputs": [
        {
          "output_type": "stream",
          "name": "stdout",
          "text": [
            "Train Accuracy: 99.19%\n",
            "Test Accuracy: 97.49%\n",
            "Identification Accuracy: 97.49%\n"
          ]
        },
        {
          "output_type": "display_data",
          "data": {
            "text/plain": [
              "<Figure size 640x480 with 1 Axes>"
            ],
            "image/png": "[encoded data removed]"
          },
          "metadata": {}
        }
      ]
    },
    {
      "cell_type": "code",
      "source": [
        "plt.subplot(2,1,2)\n",
        "plt.plot(history.history['loss'])\n",
        "plt.plot(history.history['val_loss'])\n",
        "plt.title('model loss')\n",
        "plt.ylabel('loss')\n",
        "plt.xlabel('epoch')\n",
        "plt.legend(['train', 'test'], loc='upper right')\n",
        "\n",
        "train_loss = history.history['loss'][-1]*100\n",
        "test_loss = history.history['val_loss'][-1]*100\n",
        "identification_loss = scores[0]*100\n",
        "\n",
        "print(\"Train Loss: %.4f\" % train_loss)\n",
        "print(\"Test Loss: %.4f\" % test_loss)\n",
        "print(\"Identification Loss: %.4f\" % identification_loss)\n",
        "\n",
        "plt.show()\n"
      ],
      "metadata": {
        "id": "tX25T6qWuaf1",
        "colab": {
          "base_uri": "https://localhost:8080/",
          "height": 325
        },
        "outputId": "d85992a2-349a-4144-be23-b73aaf949bdd"
      },
      "id": "tX25T6qWuaf1",
      "execution_count": null,
      "outputs": [
        {
          "output_type": "stream",
          "name": "stdout",
          "text": [
            "Train Loss: 2.4371\n",
            "Test Loss: 12.3506\n",
            "Identification Loss: 12.3506\n"
          ]
        },
        {
          "output_type": "display_data",
          "data": {
            "text/plain": [
              "<Figure size 640x480 with 1 Axes>"
            ],
            "image/png": "[encoded data removed]"
          },
          "metadata": {}
        }
      ]
    },
    {
      "cell_type": "markdown",
      "metadata": {
        "id": "61792b02"
      },
      "source": [
        "# Predicting for 1st image"
      ],
      "id": "61792b02"
    },
    {
      "cell_type": "code",
      "execution_count": null,
      "metadata": {
        "id": "e979ed62",
        "colab": {
          "base_uri": "https://localhost:8080/"
        },
        "outputId": "60764239-52a6-4e12-b505-771ef6807666"
      },
      "outputs": [
        {
          "output_type": "execute_result",
          "data": {
            "text/plain": [
              "array([[224, 224, 224, ..., 222, 222, 222],\n",
              "       [224, 224, 224, ..., 222, 222, 222],\n",
              "       [224, 224, 224, ..., 223, 223, 223],\n",
              "       ...,\n",
              "       [223, 223, 223, ..., 221, 221, 221],\n",
              "       [223, 223, 223, ..., 221, 221, 221],\n",
              "       [223, 223, 223, ..., 221, 221, 221]], dtype=uint8)"
            ]
          },
          "metadata": {},
          "execution_count": 21
        }
      ],
      "source": [
        "test_img1 = cv.imread(path+\"52/2.png\",0)\n",
        "test_img1 = cv.resize(test_img1,(96,96))\n",
        "test_img1"
      ],
      "id": "e979ed62"
    },
    {
      "cell_type": "code",
      "execution_count": null,
      "metadata": {
        "id": "a95fa662",
        "colab": {
          "base_uri": "https://localhost:8080/",
          "height": 451
        },
        "outputId": "8367a69d-0fe6-4420-ab53-269ade38f6dd"
      },
      "outputs": [
        {
          "output_type": "execute_result",
          "data": {
            "text/plain": [
              "<matplotlib.image.AxesImage at 0x7fcced4e2200>"
            ]
          },
          "metadata": {},
          "execution_count": 22
        },
        {
          "output_type": "display_data",
          "data": {
            "text/plain": [
              "<Figure size 640x480 with 1 Axes>"
            ],
            "image/png": "[encoded data removed]"
          },
          "metadata": {}
        }
      ],
      "source": [
        "plt.imshow(test_img1,cmap='gray')"
      ],
      "id": "a95fa662"
    },
    {
      "cell_type": "code",
      "execution_count": null,
      "metadata": {
        "id": "e3661738",
        "colab": {
          "base_uri": "https://localhost:8080/"
        },
        "outputId": "00353788-db48-4ab0-c6b9-43a984189b21"
      },
      "outputs": [
        {
          "data": {
            "text/plain": [
              "numpy.ndarray"
            ]
          },
          "execution_count": 23,
          "metadata": {},
          "output_type": "execute_result"
        }
      ],
      "source": [
        "type(test_img1)"
      ],
      "id": "e3661738"
    },
    {
      "cell_type": "code",
      "execution_count": null,
      "metadata": {
        "id": "9399f0e2",
        "colab": {
          "base_uri": "https://localhost:8080/"
        },
        "outputId": "d6cd597f-4f13-440e-8b1d-3ed94dc15957"
      },
      "outputs": [
        {
          "data": {
            "text/plain": [
              "(96, 96)"
            ]
          },
          "execution_count": 24,
          "metadata": {},
          "output_type": "execute_result"
        }
      ],
      "source": [
        "test_img1.shape"
      ],
      "id": "9399f0e2"
    },
    {
      "cell_type": "code",
      "execution_count": null,
      "metadata": {
        "id": "2de60451"
      },
      "outputs": [],
      "source": [
        "test_img1 = test_img1.reshape((1, 96, 96, 1)).astype('float32')"
      ],
      "id": "2de60451"
    },
    {
      "cell_type": "code",
      "execution_count": null,
      "metadata": {
        "id": "341f31a4",
        "colab": {
          "base_uri": "https://localhost:8080/"
        },
        "outputId": "e4012d24-5897-4735-c97a-418a6ed12855"
      },
      "outputs": [
        {
          "output_type": "execute_result",
          "data": {
            "text/plain": [
              "(1, 96, 96, 1)"
            ]
          },
          "metadata": {},
          "execution_count": 26
        }
      ],
      "source": [
        "test_img1.shape"
      ],
      "id": "341f31a4"
    },
    {
      "cell_type": "code",
      "execution_count": null,
      "metadata": {
        "id": "02e2fe20"
      },
      "outputs": [],
      "source": [
        "test_img1 = test_img1/255"
      ],
      "id": "02e2fe20"
    },
    {
      "cell_type": "code",
      "execution_count": null,
      "metadata": {
        "id": "7430e966",
        "colab": {
          "base_uri": "https://localhost:8080/"
        },
        "outputId": "e5982130-d908-491e-fdea-21d1bbea69f9"
      },
      "outputs": [
        {
          "output_type": "execute_result",
          "data": {
            "text/plain": [
              "array([[[[0.8784314 ],\n",
              "         [0.8784314 ],\n",
              "         [0.8784314 ],\n",
              "         ...,\n",
              "         [0.87058824],\n",
              "         [0.87058824],\n",
              "         [0.87058824]],\n",
              "\n",
              "        [[0.8784314 ],\n",
              "         [0.8784314 ],\n",
              "         [0.8784314 ],\n",
              "         ...,\n",
              "         [0.87058824],\n",
              "         [0.87058824],\n",
              "         [0.87058824]],\n",
              "\n",
              "        [[0.8784314 ],\n",
              "         [0.8784314 ],\n",
              "         [0.8784314 ],\n",
              "         ...,\n",
              "         [0.8745098 ],\n",
              "         [0.8745098 ],\n",
              "         [0.8745098 ]],\n",
              "\n",
              "        ...,\n",
              "\n",
              "        [[0.8745098 ],\n",
              "         [0.8745098 ],\n",
              "         [0.8745098 ],\n",
              "         ...,\n",
              "         [0.8666667 ],\n",
              "         [0.8666667 ],\n",
              "         [0.8666667 ]],\n",
              "\n",
              "        [[0.8745098 ],\n",
              "         [0.8745098 ],\n",
              "         [0.8745098 ],\n",
              "         ...,\n",
              "         [0.8666667 ],\n",
              "         [0.8666667 ],\n",
              "         [0.8666667 ]],\n",
              "\n",
              "        [[0.8745098 ],\n",
              "         [0.8745098 ],\n",
              "         [0.8745098 ],\n",
              "         ...,\n",
              "         [0.8666667 ],\n",
              "         [0.8666667 ],\n",
              "         [0.8666667 ]]]], dtype=float32)"
            ]
          },
          "metadata": {},
          "execution_count": 28
        }
      ],
      "source": [
        "test_img1"
      ],
      "id": "7430e966"
    },
    {
      "cell_type": "code",
      "execution_count": null,
      "metadata": {
        "id": "53cc512f",
        "colab": {
          "base_uri": "https://localhost:8080/"
        },
        "outputId": "60c4d844-3819-4214-85e6-43c85738e48d"
      },
      "outputs": [
        {
          "output_type": "stream",
          "name": "stdout",
          "text": [
            "1/1 [==============================] - 0s 296ms/step\n"
          ]
        }
      ],
      "source": [
        "result = model.predict(test_img1)"
      ],
      "id": "53cc512f"
    },
    {
      "cell_type": "code",
      "execution_count": null,
      "metadata": {
        "id": "0b0be87f",
        "colab": {
          "base_uri": "https://localhost:8080/"
        },
        "outputId": "b62d5b99-ca36-4923-ca25-e842153b90e0"
      },
      "outputs": [
        {
          "output_type": "execute_result",
          "data": {
            "text/plain": [
              "array([0.00000000e+00, 8.84956985e-30, 7.44656197e-25, 8.61039607e-25,\n",
              "       2.79629734e-22, 1.29365458e-23, 5.89491168e-20, 4.02973834e-16,\n",
              "       1.95031348e-15, 3.29239765e-27, 2.13174832e-20, 3.06282892e-27,\n",
              "       1.30434007e-20, 1.92949107e-21, 2.03290341e-27, 2.52739624e-33,\n",
              "       4.48295526e-34, 1.54870072e-34, 5.22693903e-23, 9.20590199e-27,\n",
              "       1.40204844e-31, 0.00000000e+00, 3.51308618e-30, 0.00000000e+00,\n",
              "       1.71031158e-25, 1.05505747e-22, 0.00000000e+00, 8.23225816e-24,\n",
              "       0.00000000e+00, 1.66885645e-34, 6.48211603e-16, 2.47569291e-28,\n",
              "       1.85429740e-16, 2.25073000e-38, 4.26671671e-14, 5.98779385e-26,\n",
              "       8.33642266e-38, 0.00000000e+00, 4.47046496e-37, 0.00000000e+00,\n",
              "       7.09210231e-17, 1.37093007e-22, 6.21884082e-34, 0.00000000e+00,\n",
              "       1.69473007e-26, 1.06117174e-16, 1.52111246e-18, 9.99971747e-01,\n",
              "       2.80798904e-05, 1.22429118e-12, 2.77167733e-09, 1.54680592e-07,\n",
              "       1.18398404e-18, 2.79426496e-19, 2.65303822e-17, 4.52064152e-15,\n",
              "       6.13903155e-19, 2.43345154e-16, 1.49603146e-21, 1.05571651e-09,\n",
              "       2.59049870e-09, 7.76311913e-21], dtype=float32)"
            ]
          },
          "metadata": {},
          "execution_count": 30
        }
      ],
      "source": [
        "result[0]"
      ],
      "id": "0b0be87f"
    },
    {
      "cell_type": "code",
      "execution_count": null,
      "metadata": {
        "id": "2c8e5dc1",
        "colab": {
          "base_uri": "https://localhost:8080/"
        },
        "outputId": "65a3b766-1486-4a81-8a9e-8da3341d0e79"
      },
      "outputs": [
        {
          "output_type": "stream",
          "name": "stdout",
          "text": [
            "47\n"
          ]
        }
      ],
      "source": [
        "print(np.argmax(result[0]))"
      ],
      "id": "2c8e5dc1"
    },
    {
      "cell_type": "markdown",
      "metadata": {
        "id": "20e3bed0"
      },
      "source": [
        "# Predicting for 2nd image"
      ],
      "id": "20e3bed0"
    },
    {
      "cell_type": "code",
      "execution_count": null,
      "metadata": {
        "id": "b41a522c"
      },
      "outputs": [],
      "source": [
        "test_img2 = cv.imread(path+\"2/380.png\",0)\n",
        "test_img2 = cv.resize(test_img2,(96,96))"
      ],
      "id": "b41a522c"
    },
    {
      "cell_type": "code",
      "execution_count": null,
      "metadata": {
        "id": "e678f4a2",
        "colab": {
          "base_uri": "https://localhost:8080/",
          "height": 451
        },
        "outputId": "3aa1049f-856b-46c9-f514-1e5c967951e2"
      },
      "outputs": [
        {
          "data": {
            "text/plain": [
              "<matplotlib.image.AxesImage at 0x7fccec11edd0>"
            ]
          },
          "execution_count": 33,
          "metadata": {},
          "output_type": "execute_result"
        },
        {
          "output_type": "display_data",
          "data": {
            "text/plain": [
              "<Figure size 640x480 with 1 Axes>"
            ],
            "image/png": "[encoded data removed]"
          },
          "metadata": {}
        }
      ],
      "source": [
        "plt.imshow(test_img2,cmap='gray')"
      ],
      "id": "e678f4a2"
    },
    {
      "cell_type": "code",
      "execution_count": null,
      "metadata": {
        "id": "f9f5add0"
      },
      "outputs": [],
      "source": [
        "test_img2 = test_img2.reshape((1, 96, 96, 1)).astype('float32')"
      ],
      "id": "f9f5add0"
    },
    {
      "cell_type": "code",
      "execution_count": null,
      "metadata": {
        "id": "cdd80246",
        "colab": {
          "base_uri": "https://localhost:8080/"
        },
        "outputId": "07adda5a-ec31-4910-fb4f-a3de4bdcb323"
      },
      "outputs": [
        {
          "data": {
            "text/plain": [
              "(1, 96, 96, 1)"
            ]
          },
          "execution_count": 35,
          "metadata": {},
          "output_type": "execute_result"
        }
      ],
      "source": [
        "test_img2.shape"
      ],
      "id": "cdd80246"
    },
    {
      "cell_type": "code",
      "execution_count": null,
      "metadata": {
        "id": "74ba7b50"
      },
      "outputs": [],
      "source": [
        "test_img2 = test_img2/255"
      ],
      "id": "74ba7b50"
    },
    {
      "cell_type": "code",
      "execution_count": null,
      "metadata": {
        "id": "0c364559",
        "colab": {
          "base_uri": "https://localhost:8080/"
        },
        "outputId": "29a52580-c726-4299-97bb-beaf5c32a68a"
      },
      "outputs": [
        {
          "output_type": "stream",
          "name": "stdout",
          "text": [
            "1/1 [==============================] - 0s 18ms/step\n"
          ]
        }
      ],
      "source": [
        "result2 = model.predict(test_img2)"
      ],
      "id": "0c364559"
    },
    {
      "cell_type": "code",
      "execution_count": null,
      "metadata": {
        "id": "984d64e1",
        "colab": {
          "base_uri": "https://localhost:8080/"
        },
        "outputId": "fe6e5de5-a286-4fb3-c68c-1b312f3da968"
      },
      "outputs": [
        {
          "output_type": "execute_result",
          "data": {
            "text/plain": [
              "array([0.0000000e+00, 1.6188443e-11, 9.9999821e-01, 1.3345362e-15,\n",
              "       1.7912401e-20, 3.2739194e-22, 3.5559739e-23, 1.7683625e-06,\n",
              "       2.4993497e-12, 1.1331125e-14, 1.6946658e-14, 3.2686631e-31,\n",
              "       1.1868578e-10, 1.9263347e-22, 4.5111720e-20, 2.2642419e-11,\n",
              "       1.4086309e-24, 6.6763610e-30, 6.7929234e-13, 8.5938253e-32,\n",
              "       0.0000000e+00, 1.8804010e-19, 8.0126589e-22, 1.2877874e-27,\n",
              "       5.7611364e-23, 2.1735523e-20, 8.5271860e-22, 1.8089471e-15,\n",
              "       1.0136245e-23, 5.2176707e-17, 1.6318536e-17, 2.1380056e-17,\n",
              "       5.3926899e-17, 1.1043808e-27, 2.0592847e-19, 6.0339245e-34,\n",
              "       3.0135312e-09, 2.1801707e-35, 2.0804647e-31, 3.9752880e-25,\n",
              "       2.8227951e-11, 2.2819429e-12, 1.8979311e-15, 2.8612413e-24,\n",
              "       3.9234969e-23, 2.0359944e-17, 3.7075920e-12, 1.6070146e-16,\n",
              "       6.5659452e-20, 1.2892805e-29, 2.1718128e-34, 8.6935413e-23,\n",
              "       2.8394184e-32, 0.0000000e+00, 0.0000000e+00, 1.3071279e-29,\n",
              "       2.4022163e-20, 4.3523670e-31, 9.5871580e-36, 3.5254494e-30,\n",
              "       1.0390326e-30, 0.0000000e+00], dtype=float32)"
            ]
          },
          "metadata": {},
          "execution_count": 38
        }
      ],
      "source": [
        "result2[0]"
      ],
      "id": "984d64e1"
    },
    {
      "cell_type": "code",
      "execution_count": null,
      "metadata": {
        "id": "2103d91d",
        "colab": {
          "base_uri": "https://localhost:8080/"
        },
        "outputId": "2e613f10-8cf8-4d9e-f5a5-f100d491e72d"
      },
      "outputs": [
        {
          "data": {
            "text/plain": [
              "2"
            ]
          },
          "execution_count": 39,
          "metadata": {},
          "output_type": "execute_result"
        }
      ],
      "source": [
        "np.argmax(result2[0])"
      ],
      "id": "2103d91d"
    },
    {
      "cell_type": "markdown",
      "metadata": {
        "id": "ea8bb56c"
      },
      "source": [
        "# Predicting for 3rd image"
      ],
      "id": "ea8bb56c"
    },
    {
      "cell_type": "code",
      "execution_count": null,
      "metadata": {
        "id": "c4c1b78f"
      },
      "outputs": [],
      "source": [
        "test_img3 = cv.imread(path+'3/380.png',0)\n",
        "test_img3 = cv.resize(test_img3,(96,96))"
      ],
      "id": "c4c1b78f"
    },
    {
      "cell_type": "code",
      "execution_count": null,
      "metadata": {
        "id": "633e4342",
        "colab": {
          "base_uri": "https://localhost:8080/",
          "height": 451
        },
        "outputId": "2d23781c-672a-4fc6-c250-0ffdb22be898"
      },
      "outputs": [
        {
          "output_type": "execute_result",
          "data": {
            "text/plain": [
              "<matplotlib.image.AxesImage at 0x7fccb4d322c0>"
            ]
          },
          "metadata": {},
          "execution_count": 41
        },
        {
          "output_type": "display_data",
          "data": {
            "text/plain": [
              "<Figure size 640x480 with 1 Axes>"
            ],
            "image/png": "[encoded data removed]"
          },
          "metadata": {}
        }
      ],
      "source": [
        "plt.imshow(test_img3,cmap='gray')"
      ],
      "id": "633e4342"
    },
    {
      "cell_type": "code",
      "execution_count": null,
      "metadata": {
        "id": "30116027"
      },
      "outputs": [],
      "source": [
        "test_img3 = test_img3.reshape((1, 96, 96, 1)).astype('float32')"
      ],
      "id": "30116027"
    },
    {
      "cell_type": "code",
      "execution_count": null,
      "metadata": {
        "id": "71ea7e11",
        "colab": {
          "base_uri": "https://localhost:8080/"
        },
        "outputId": "7ff518ad-14d1-4052-955d-6e18c478949a"
      },
      "outputs": [
        {
          "data": {
            "text/plain": [
              "(1, 96, 96, 1)"
            ]
          },
          "execution_count": 43,
          "metadata": {},
          "output_type": "execute_result"
        }
      ],
      "source": [
        "test_img3.shape"
      ],
      "id": "71ea7e11"
    },
    {
      "cell_type": "code",
      "execution_count": null,
      "metadata": {
        "id": "70b2d02e"
      },
      "outputs": [],
      "source": [
        "test_img3 = test_img3/255"
      ],
      "id": "70b2d02e"
    },
    {
      "cell_type": "code",
      "execution_count": null,
      "metadata": {
        "id": "5c5daec5",
        "colab": {
          "base_uri": "https://localhost:8080/"
        },
        "outputId": "05413c84-11ce-486e-9402-f692576fd90a"
      },
      "outputs": [
        {
          "output_type": "stream",
          "name": "stdout",
          "text": [
            "1/1 [==============================] - 0s 22ms/step\n"
          ]
        }
      ],
      "source": [
        "result3 = model.predict(test_img3)"
      ],
      "id": "5c5daec5"
    },
    {
      "cell_type": "code",
      "execution_count": null,
      "metadata": {
        "id": "5cbfb66d",
        "colab": {
          "base_uri": "https://localhost:8080/"
        },
        "outputId": "ad838dd9-8c3c-4b42-e5bd-237454ba122e"
      },
      "outputs": [
        {
          "output_type": "execute_result",
          "data": {
            "text/plain": [
              "array([0.00000000e+00, 4.90446952e-16, 2.65420368e-12, 9.99998450e-01,\n",
              "       2.73427275e-15, 2.63048750e-15, 5.20904121e-13, 2.79787857e-13,\n",
              "       1.38532796e-09, 3.55475672e-14, 2.65331752e-20, 1.02877115e-14,\n",
              "       7.99341194e-07, 2.17750647e-17, 9.90943612e-12, 1.31515471e-16,\n",
              "       3.07727958e-20, 4.86549040e-14, 2.34225372e-17, 1.12312821e-15,\n",
              "       7.23698081e-31, 4.55790116e-17, 4.68112221e-18, 2.98482764e-16,\n",
              "       6.08535400e-09, 4.48411419e-21, 1.38487555e-10, 6.95182667e-09,\n",
              "       1.65865082e-08, 1.39969494e-08, 4.11538922e-28, 1.11095019e-07,\n",
              "       5.32380260e-12, 4.03154594e-08, 2.35485542e-09, 2.76246373e-23,\n",
              "       2.80464410e-12, 4.43261732e-28, 2.08098012e-17, 2.65643339e-15,\n",
              "       5.44885961e-15, 4.74611432e-14, 4.27677291e-17, 6.58922488e-07,\n",
              "       2.73060580e-21, 1.96328269e-08, 5.52195947e-19, 8.54917820e-21,\n",
              "       4.90311763e-18, 8.55464999e-23, 5.38820566e-33, 1.15611092e-19,\n",
              "       8.84286518e-35, 0.00000000e+00, 0.00000000e+00, 1.54313279e-35,\n",
              "       7.13490777e-21, 2.39995427e-28, 2.70284493e-34, 2.19413506e-30,\n",
              "       5.00523933e-34, 0.00000000e+00], dtype=float32)"
            ]
          },
          "metadata": {},
          "execution_count": 46
        }
      ],
      "source": [
        "result3[0]"
      ],
      "id": "5cbfb66d"
    },
    {
      "cell_type": "code",
      "execution_count": null,
      "metadata": {
        "id": "996dac9e",
        "colab": {
          "base_uri": "https://localhost:8080/"
        },
        "outputId": "68c69ad1-faaf-4624-d0dc-295845a63be5"
      },
      "outputs": [
        {
          "data": {
            "text/plain": [
              "3"
            ]
          },
          "execution_count": 47,
          "metadata": {},
          "output_type": "execute_result"
        }
      ],
      "source": [
        "np.argmax(result3[0])"
      ],
      "id": "996dac9e"
    },
    {
      "cell_type": "markdown",
      "metadata": {
        "id": "faf27efe"
      },
      "source": [
        "# Casually predicting"
      ],
      "id": "faf27efe"
    },
    {
      "cell_type": "code",
      "execution_count": null,
      "metadata": {
        "id": "f0a39aab"
      },
      "outputs": [],
      "source": [
        "test_img4 = cv.imread('/content/drive/MyDrive/Dataset/train/1/112.png')\n",
        "test_img4 = cv.cvtColor(test_img4,cv.COLOR_BGR2GRAY)\n",
        "test_img4 = cv.resize(test_img4,(96,96))"
      ],
      "id": "f0a39aab"
    },
    {
      "cell_type": "code",
      "execution_count": null,
      "metadata": {
        "id": "6d37c5f4",
        "colab": {
          "base_uri": "https://localhost:8080/"
        },
        "outputId": "02f04b11-0582-481a-c0be-c95890582dff"
      },
      "outputs": [
        {
          "output_type": "execute_result",
          "data": {
            "text/plain": [
              "(96, 96)"
            ]
          },
          "metadata": {},
          "execution_count": 49
        }
      ],
      "source": [
        "test_img4.shape"
      ],
      "id": "6d37c5f4"
    },
    {
      "cell_type": "code",
      "execution_count": null,
      "metadata": {
        "id": "f3d6acf9",
        "colab": {
          "base_uri": "https://localhost:8080/",
          "height": 451
        },
        "outputId": "ae2ceb1b-752a-43ed-9e37-c0620f30fe4a"
      },
      "outputs": [
        {
          "output_type": "execute_result",
          "data": {
            "text/plain": [
              "<matplotlib.image.AxesImage at 0x7fccb4d303a0>"
            ]
          },
          "metadata": {},
          "execution_count": 50
        },
        {
          "output_type": "display_data",
          "data": {
            "text/plain": [
              "<Figure size 640x480 with 1 Axes>"
            ],
            "image/png": "[encoded data removed]"
          },
          "metadata": {}
        }
      ],
      "source": [
        "plt.imshow(test_img4,cmap='gray')"
      ],
      "id": "f3d6acf9"
    },
    {
      "cell_type": "code",
      "execution_count": null,
      "metadata": {
        "id": "dad43462"
      },
      "outputs": [],
      "source": [
        "test_img4 = test_img4.reshape((1, 96, 96, 1)).astype('float32')"
      ],
      "id": "dad43462"
    },
    {
      "cell_type": "code",
      "execution_count": null,
      "metadata": {
        "id": "c8380e44",
        "colab": {
          "base_uri": "https://localhost:8080/"
        },
        "outputId": "87e6f484-541a-4bcd-94fc-4baddce03314"
      },
      "outputs": [
        {
          "data": {
            "text/plain": [
              "(1, 96, 96, 1)"
            ]
          },
          "execution_count": 52,
          "metadata": {},
          "output_type": "execute_result"
        }
      ],
      "source": [
        "test_img4.shape"
      ],
      "id": "c8380e44"
    },
    {
      "cell_type": "code",
      "execution_count": null,
      "metadata": {
        "id": "4e5d8273"
      },
      "outputs": [],
      "source": [
        "test_img4 = test_img4/255"
      ],
      "id": "4e5d8273"
    },
    {
      "cell_type": "code",
      "execution_count": null,
      "metadata": {
        "id": "774e415e",
        "colab": {
          "base_uri": "https://localhost:8080/"
        },
        "outputId": "ab900d35-0db4-4c3a-a2bb-36bf2d827e0d"
      },
      "outputs": [
        {
          "output_type": "stream",
          "name": "stdout",
          "text": [
            "1/1 [==============================] - 0s 34ms/step\n"
          ]
        }
      ],
      "source": [
        "result4 = model.predict(test_img4)"
      ],
      "id": "774e415e"
    },
    {
      "cell_type": "code",
      "execution_count": null,
      "metadata": {
        "id": "0927b90d",
        "colab": {
          "base_uri": "https://localhost:8080/"
        },
        "outputId": "a5081fe5-9b81-4119-9db9-ad292f3045e0"
      },
      "outputs": [
        {
          "output_type": "execute_result",
          "data": {
            "text/plain": [
              "array([0.00000000e+00, 9.99344051e-01, 1.17932329e-13, 9.55007837e-16,\n",
              "       6.39241507e-11, 3.00051295e-04, 7.99718538e-12, 8.03289879e-08,\n",
              "       1.44710910e-15, 2.62911431e-04, 9.28463123e-05, 1.89233501e-19,\n",
              "       6.13806228e-10, 1.73716784e-14, 6.64446457e-14, 1.07620779e-09,\n",
              "       2.89384974e-15, 3.59395962e-08, 1.09762866e-13, 6.22503595e-22,\n",
              "       1.74210312e-20, 2.97608781e-24, 1.20143743e-20, 5.33274262e-16,\n",
              "       1.61280121e-14, 5.09647613e-08, 1.52361124e-19, 1.41659400e-22,\n",
              "       2.35937836e-23, 3.79151191e-20, 2.03510008e-29, 3.18668630e-22,\n",
              "       1.58188621e-23, 5.25030012e-26, 1.12590187e-21, 4.55266881e-21,\n",
              "       9.23083682e-22, 7.81208343e-30, 4.40125433e-19, 1.37267714e-26,\n",
              "       1.38081725e-19, 2.18179403e-15, 1.74399200e-12, 3.73797763e-33,\n",
              "       3.43030556e-14, 3.88478109e-16, 1.57347209e-16, 7.85367450e-23,\n",
              "       8.50711468e-31, 0.00000000e+00, 0.00000000e+00, 8.81014147e-37,\n",
              "       0.00000000e+00, 0.00000000e+00, 0.00000000e+00, 3.38729159e-32,\n",
              "       6.11446496e-38, 0.00000000e+00, 8.61956272e-36, 7.68252326e-30,\n",
              "       0.00000000e+00, 0.00000000e+00], dtype=float32)"
            ]
          },
          "metadata": {},
          "execution_count": 55
        }
      ],
      "source": [
        "result4[0]"
      ],
      "id": "0927b90d"
    },
    {
      "cell_type": "code",
      "execution_count": null,
      "metadata": {
        "id": "d8b5e080",
        "colab": {
          "base_uri": "https://localhost:8080/"
        },
        "outputId": "038c314e-d29b-4088-b91c-b8647402d5a2"
      },
      "outputs": [
        {
          "data": {
            "text/plain": [
              "1"
            ]
          },
          "execution_count": 56,
          "metadata": {},
          "output_type": "execute_result"
        }
      ],
      "source": [
        "np.argmax(result4[0])"
      ],
      "id": "d8b5e080"
    },
    {
      "cell_type": "code",
      "source": [
        "model.save('/content/drive/MyDrive/Dataset/modir.h5')\n"
      ],
      "metadata": {
        "id": "Fj_mwxSGm1Xc"
      },
      "id": "Fj_mwxSGm1Xc",
      "execution_count": null,
      "outputs": []
    }
  ],
  "metadata": {
    "accelerator": "GPU",
    "colab": {
      "provenance": [],
      "gpuType": "T4"
    },
    "gpuClass": "standard",
    "kernelspec": {
      "display_name": "Python 3 (ipykernel)",
      "language": "python",
      "name": "python3"
    },
    "language_info": {
      "codemirror_mode": {
        "name": "ipython",
        "version": 3
      },
      "file_extension": ".py",
      "mimetype": "text/x-python",
      "name": "python",
      "nbconvert_exporter": "python",
      "pygments_lexer": "ipython3",
      "version": "3.9.12"
    }
  },
  "nbformat": 4,
  "nbformat_minor": 5
}